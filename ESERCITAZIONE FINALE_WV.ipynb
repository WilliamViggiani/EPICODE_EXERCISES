{
 "cells": [
  {
   "cell_type": "code",
   "execution_count": 25,
   "id": "0ee8a847-1d98-489a-8290-53cf661e124f",
   "metadata": {},
   "outputs": [
    {
     "name": "stdout",
     "output_type": "stream",
     "text": [
      "Dimensioni del dataset: (311364, 67)\n",
      "Intestazione del dataset: Index(['iso_code', 'continent', 'location', 'date', 'total_cases', 'new_cases',\n",
      "       'new_cases_smoothed', 'total_deaths', 'new_deaths',\n",
      "       'new_deaths_smoothed', 'total_cases_per_million',\n",
      "       'new_cases_per_million', 'new_cases_smoothed_per_million',\n",
      "       'total_deaths_per_million', 'new_deaths_per_million',\n",
      "       'new_deaths_smoothed_per_million', 'reproduction_rate', 'icu_patients',\n",
      "       'icu_patients_per_million', 'hosp_patients',\n",
      "       'hosp_patients_per_million', 'weekly_icu_admissions',\n",
      "       'weekly_icu_admissions_per_million', 'weekly_hosp_admissions',\n",
      "       'weekly_hosp_admissions_per_million', 'total_tests', 'new_tests',\n",
      "       'total_tests_per_thousand', 'new_tests_per_thousand',\n",
      "       'new_tests_smoothed', 'new_tests_smoothed_per_thousand',\n",
      "       'positive_rate', 'tests_per_case', 'tests_units', 'total_vaccinations',\n",
      "       'people_vaccinated', 'people_fully_vaccinated', 'total_boosters',\n",
      "       'new_vaccinations', 'new_vaccinations_smoothed',\n",
      "       'total_vaccinations_per_hundred', 'people_vaccinated_per_hundred',\n",
      "       'people_fully_vaccinated_per_hundred', 'total_boosters_per_hundred',\n",
      "       'new_vaccinations_smoothed_per_million',\n",
      "       'new_people_vaccinated_smoothed',\n",
      "       'new_people_vaccinated_smoothed_per_hundred', 'stringency_index',\n",
      "       'population_density', 'median_age', 'aged_65_older', 'aged_70_older',\n",
      "       'gdp_per_capita', 'extreme_poverty', 'cardiovasc_death_rate',\n",
      "       'diabetes_prevalence', 'female_smokers', 'male_smokers',\n",
      "       'handwashing_facilities', 'hospital_beds_per_thousand',\n",
      "       'life_expectancy', 'human_development_index', 'population',\n",
      "       'excess_mortality_cumulative_absolute', 'excess_mortality_cumulative',\n",
      "       'excess_mortality', 'excess_mortality_cumulative_per_million'],\n",
      "      dtype='object')\n"
     ]
    }
   ],
   "source": [
    "import pandas as pd\n",
    "\n",
    "# Caricare il dataset\n",
    "data = pd.read_csv('D:\\DOCUMENTI\\EPICODE\\LEZIONI\\SLIDE AGGIORNATE\\M4\\ESERCITAZIONE FINALE\\owid-covid-data.csv', low_memory=False)\n",
    "\n",
    "# Dimensioni del dataset\n",
    "dimensioni = data.shape\n",
    "print(\"Dimensioni del dataset:\", dimensioni)\n",
    "\n",
    "# Intestazione del dataset\n",
    "intestazione = data.columns\n",
    "print(\"Intestazione del dataset:\", intestazione)"
   ]
  },
  {
   "cell_type": "code",
   "execution_count": 23,
   "id": "7204a1e5-2482-4cfe-beb4-ca1218104303",
   "metadata": {},
   "outputs": [
    {
     "name": "stdout",
     "output_type": "stream",
     "text": [
      "Casi totali per continente:\n",
      "continent\n",
      "Africa           8.812017e+09\n",
      "Asia             1.196259e+11\n",
      "Europe           1.260114e+11\n",
      "North America    7.199848e+10\n",
      "Oceania          5.110476e+09\n",
      "South America    4.311459e+10\n",
      "Name: total_cases, dtype: float64\n"
     ]
    }
   ],
   "source": [
    "# Filtrare le righe senza continente\n",
    "data_continente = data[data['continent'].notna()]\n",
    "\n",
    "# Calcolare il numero di casi totali per ogni continente\n",
    "casi_totali_per_continente = data_continente.groupby('continent')['total_cases'].sum()\n",
    "\n",
    "print(\"Casi totali per continente:\")\n",
    "print(casi_totali_per_continente)"
   ]
  },
  {
   "cell_type": "code",
   "execution_count": 26,
   "id": "5a9931fc-0b56-4f4d-ab4f-748085e04a30",
   "metadata": {},
   "outputs": [
    {
     "name": "stdout",
     "output_type": "stream",
     "text": [
      "Vaccinazioni totali per continente:\n",
      "continent\n",
      "Africa           4.912727e+10\n",
      "Asia             3.670599e+12\n",
      "Europe           6.501954e+11\n",
      "North America    5.301944e+11\n",
      "Oceania          2.520139e+10\n",
      "South America    3.794243e+11\n",
      "Name: total_vaccinations, dtype: float64\n"
     ]
    }
   ],
   "source": [
    "# Calcolare il numero di vaccinazioni totali per ogni continente\n",
    "vaccinazioni_totali_per_continente = data_continente.groupby('continent')['total_vaccinations'].sum()\n",
    "\n",
    "print(\"Vaccinazioni totali per continente:\")\n",
    "print(vaccinazioni_totali_per_continente)"
   ]
  },
  {
   "cell_type": "code",
   "execution_count": 12,
   "id": "81a8b374-0009-42bd-92e1-693114bd0d4c",
   "metadata": {},
   "outputs": [
    {
     "name": "stdout",
     "output_type": "stream",
     "text": [
      "Descrittori statistici per Europa e Sud America:\n",
      "count          7.642500e+04\n",
      "mean           2.212966e+06\n",
      "std            5.602173e+06\n",
      "min            1.000000e+00\n",
      "25%            1.901000e+04\n",
      "50%            2.720020e+05\n",
      "75%            1.465794e+06\n",
      "max            3.898940e+07\n",
      "percentuale    1.393644e-04\n",
      "Name: total_cases, dtype: float64\n"
     ]
    }
   ],
   "source": [
    "def confronta_descrittori_statistici(dataset, continente1, continente2):\n",
    "    # Filtrare le righe per i due continenti specificati\n",
    "    data_continenti = dataset[dataset['continent'].isin([continente1, continente2])]\n",
    "\n",
    "    # Descrittori statistici per i casi totali dei due continenti\n",
    "    descrittori_statistici = data_continenti['total_cases'].describe()\n",
    "\n",
    "    # Calcolare la percentuale rispetto al numero totale di casi nel mondo\n",
    "    totale_casi_mondo = dataset['total_cases'].sum()\n",
    "    descrittori_statistici['percentuale'] = (descrittori_statistici['mean'] / totale_casi_mondo) * 100\n",
    "\n",
    "    return descrittori_statistici\n",
    "\n",
    "# Utilizzo della funzione per confrontare i descrittori statistici tra Europa e Sud America\n",
    "descrittori = confronta_descrittori_statistici(data, 'Europe', 'South America')\n",
    "print(\"Descrittori statistici per Europa e Sud America:\")\n",
    "print(descrittori)"
   ]
  },
  {
   "cell_type": "code",
   "execution_count": 13,
   "id": "659ffc05-87ac-4990-856d-0ae1d77c0421",
   "metadata": {},
   "outputs": [
    {
     "name": "stdout",
     "output_type": "stream",
     "text": [
      "Descrittori statistici per Europa e Sud America:\n",
      "count          3.030000e+04\n",
      "mean           3.398085e+07\n",
      "std            6.501579e+07\n",
      "min            0.000000e+00\n",
      "25%            1.409315e+06\n",
      "50%            7.390207e+06\n",
      "75%            2.963300e+07\n",
      "max            4.864364e+08\n",
      "percentuale    1.199004e-04\n",
      "Name: total_vaccinations, dtype: float64\n"
     ]
    }
   ],
   "source": [
    "def confronta_descrittori_statistici(dataset, continente1, continente2):\n",
    "    # Filtrare le righe per i due continenti specificati\n",
    "    data_continenti = dataset[dataset['continent'].isin([continente1, continente2])]\n",
    "\n",
    "    # Descrittori statistici per le vaccinazioni totali dei due continenti\n",
    "    descrittori_statistici = data_continenti['total_vaccinations'].describe()\n",
    "\n",
    "    # Calcolare la percentuale rispetto al numero totale di vaccinazioni nel mondo\n",
    "    totale_casi_mondo = dataset['total_vaccinations'].sum()\n",
    "    descrittori_statistici['percentuale'] = (descrittori_statistici['mean'] / totale_casi_mondo) * 100\n",
    "\n",
    "    return descrittori_statistici\n",
    "\n",
    "# Utilizzo della funzione per confrontare i descrittori statistici tra Europa e Sud America\n",
    "descrittori = confronta_descrittori_statistici(data, 'Europe', 'South America')\n",
    "print(\"Descrittori statistici per Europa e Sud America:\")\n",
    "print(descrittori)"
   ]
  },
  {
   "cell_type": "code",
   "execution_count": 20,
   "id": "71abe731-1cc1-45f1-abfb-014170dfd79d",
   "metadata": {},
   "outputs": [
    {
     "name": "stdout",
     "output_type": "stream",
     "text": [
      "Le statistiche di casi e vaccinazioni mostrano che l'Europa ha il maggior numero di casi totali (126011375544.0 casi) e il maggior numero di vaccinazioni totali (650195364600.0 vaccinazioni). Il Sud America segue con 43114586659.0 casi e 379424275252.0 vaccinazioni. L'Oceania ha il minor numero di casi (5110476293.0) e vaccinazioni (25201394551.0).\n"
     ]
    }
   ],
   "source": [
    "# Calcolare le differenze tra i continenti Europa, Sud America e Oceania\n",
    "differenze_casi = casi_totali_per_continente.loc[['Europe', 'South America', 'Oceania']]\n",
    "differenze_vaccinazioni = vaccinazioni_totali_per_continente.loc[['Europe', 'South America', 'Oceania']]\n",
    "\n",
    "# Paragrafo riassuntivo\n",
    "riassunto = f\"Le statistiche di casi e vaccinazioni mostrano che l'Europa ha il maggior numero di casi totali ({differenze_casi['Europe']} casi) e il maggior numero di vaccinazioni totali ({differenze_vaccinazioni['Europe']} vaccinazioni). Il Sud America segue con {differenze_casi['South America']} casi e {differenze_vaccinazioni['South America']} vaccinazioni. L'Oceania ha il minor numero di casi ({differenze_casi['Oceania']}) e vaccinazioni ({differenze_vaccinazioni['Oceania']}).\"\n",
    "\n",
    "print(riassunto)"
   ]
  },
  {
   "cell_type": "code",
   "execution_count": null,
   "id": "e377dec9-30b3-49e3-9889-8a7c6ac2b76b",
   "metadata": {},
   "outputs": [],
   "source": []
  }
 ],
 "metadata": {
  "kernelspec": {
   "display_name": "Python 3 (ipykernel)",
   "language": "python",
   "name": "python3"
  },
  "language_info": {
   "codemirror_mode": {
    "name": "ipython",
    "version": 3
   },
   "file_extension": ".py",
   "mimetype": "text/x-python",
   "name": "python",
   "nbconvert_exporter": "python",
   "pygments_lexer": "ipython3",
   "version": "3.10.9"
  }
 },
 "nbformat": 4,
 "nbformat_minor": 5
}
